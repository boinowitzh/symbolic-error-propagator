{
 "cells": [
  {
   "cell_type": "code",
   "execution_count": 11,
   "metadata": {},
   "outputs": [
    {
     "data": {
      "text/latex": [
       "$a e^{x} + b$"
      ],
      "text/plain": [
       "   x    \n",
       "a*e  + b"
      ]
     },
     "metadata": {},
     "output_type": "display_data"
    }
   ],
   "source": [
    "@vars a b x da db\n",
    "error_variables = [a, b]\n",
    "f = a * exp(x) + b"
   ]
  },
  {
   "cell_type": "code",
   "execution_count": 20,
   "metadata": {},
   "outputs": [
    {
     "data": {
      "text/plain": [
       "UUID(\"086cc5bb-2461-57d8-8068-0aed7f5b5cd1\")"
      ]
     },
     "metadata": {},
     "output_type": "display_data"
    }
   ],
   "source": [
    "using UUIDs\n",
    "using Random\n",
    "rng = MersenneTwister(1234);\n",
    "\n",
    "julia> u4 = uuid4(rng)\n",
    "UUID(\"7a052949-c101-4ca3-9a7e-43a2532b2fa8\")\n",
    "\n",
    "julia> u5 = uuid5(u4, \"julia\")\n",
    "UUID(\"086cc5bb-2461-57d8-8068-0aed7f5b5cd1\")"
   ]
  },
  {
   "cell_type": "code",
   "execution_count": 6,
   "metadata": {},
   "outputs": [
    {
     "data": {
      "text/plain": [
       "get_propgated_error_function (generic function with 1 method)"
      ]
     },
     "metadata": {},
     "output_type": "display_data"
    }
   ],
   "source": [
    "include(\"error_propagator.jl\")"
   ]
  },
  {
   "cell_type": "code",
   "execution_count": 8,
   "metadata": {},
   "outputs": [
    {
     "data": {
      "text/plain": [
       "\"\\\\sqrt{\\\\left(e^{x}\\\\cdot\\\\Delta a\\\\right)^2 + \\\\left(1\\\\cdot\\\\Delta b\\\\right)^2}\""
      ]
     },
     "metadata": {},
     "output_type": "display_data"
    }
   ],
   "source": [
    "get_propgated_error_string(f, error_variables, true)"
   ]
  },
  {
   "cell_type": "code",
   "execution_count": 9,
   "metadata": {},
   "outputs": [
    {
     "data": {
      "text/plain": [
       "\"\\\\left|e^{x}\\\\right|\\\\cdot\\\\Delta a\\\\right + \\\\left|1\\\\right|\\\\cdot\\\\Delta b\\\\right\""
      ]
     },
     "metadata": {},
     "output_type": "display_data"
    }
   ],
   "source": [
    "get_propgated_error_string(f, error_variables, false)"
   ]
  },
  {
   "cell_type": "code",
   "execution_count": 12,
   "metadata": {},
   "outputs": [
    {
     "name": "stdout",
     "output_type": "stream",
     "text": [
      "\\sqrt{da^{2} e^{2 x} + db^{2}}"
     ]
    },
    {
     "data": {
      "text/latex": [
       "$\\sqrt{16 + e^{10}}$"
      ],
      "text/plain": [
       "   __________\n",
       "  /       10 \n",
       "\\/  16 + e   "
      ]
     },
     "metadata": {},
     "output_type": "display_data"
    }
   ],
   "source": [
    "ex = get_propgated_error_function(f, error_variables, [da, db], true)\n",
    "ex = ex.doit()\n",
    "print(sympy.latex(ex))\n",
    "ex(da => 1, db => 4, x => 5)"
   ]
  },
  {
   "cell_type": "markdown",
   "metadata": {},
   "source": [
    "$$\\left|e^{x}\\right|\\cdot\\Delta a+\\left|a e^{x}\\right|\\cdot\\Delta x$$\n",
    "$$\\sqrt{\\left(e^{x}\\cdot\\Delta a\\right)^2 + \\left(a e^{x}\\cdot\\Delta x\\right)^2}$$"
   ]
  }
 ],
 "metadata": {
  "kernelspec": {
   "display_name": "Julia 1.7.2",
   "language": "julia",
   "name": "julia-1.7"
  },
  "language_info": {
   "file_extension": ".jl",
   "mimetype": "application/julia",
   "name": "julia",
   "version": "1.7.2"
  },
  "orig_nbformat": 4
 },
 "nbformat": 4,
 "nbformat_minor": 2
}
