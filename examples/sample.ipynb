{
 "cells": [
  {
   "cell_type": "code",
   "execution_count": 1,
   "metadata": {},
   "outputs": [
    {
     "data": {
      "text/latex": [
       "$a e^{x} + b$"
      ],
      "text/plain": [
       "   x    \n",
       "a*e  + b"
      ]
     },
     "metadata": {},
     "output_type": "display_data"
    }
   ],
   "source": [
    "using SymbolicErrorPropagator\n",
    "using SymPy\n",
    "@vars a b x da db\n",
    "error_variables = [a, b]\n",
    "f = a * exp(x) + b"
   ]
  },
  {
   "cell_type": "code",
   "execution_count": 2,
   "metadata": {},
   "outputs": [
    {
     "name": "stdout",
     "output_type": "stream",
     "text": [
      "\\sqrt{\\left(\\frac{\\partial}{\\partial a} \\left(a e^{x} + b\\right)\\cdot\\Delta a\\right)^2 + \\left(\\frac{\\partial}{\\partial b} \\left(a e^{x} + b\\right)\\cdot\\Delta b\\right)^2}"
     ]
    }
   ],
   "source": [
    "print(get_propagated_error_string(f, error_variables, \"gaussian\", false))"
   ]
  },
  {
   "cell_type": "code",
   "execution_count": 3,
   "metadata": {},
   "outputs": [
    {
     "name": "stdout",
     "output_type": "stream",
     "text": [
      "\\sqrt{\\left(e^{x}\\cdot\\Delta a\\right)^2 + \\left(1\\cdot\\Delta b\\right)^2}"
     ]
    }
   ],
   "source": [
    "print(get_propagated_error_string(f, error_variables, \"gaussian\"))"
   ]
  },
  {
   "cell_type": "code",
   "execution_count": 4,
   "metadata": {},
   "outputs": [
    {
     "name": "stdout",
     "output_type": "stream",
     "text": [
      "\\left|e^{x}\\right|\\cdot\\Delta a + \\left|1\\right|\\cdot\\Delta b"
     ]
    }
   ],
   "source": [
    "print(get_propagated_error_string(f, error_variables, \"lin\"))"
   ]
  },
  {
   "cell_type": "markdown",
   "metadata": {},
   "source": [
    "The LaTex-Strings can be parsed to\n",
    "\n",
    "**Gaussian**\n",
    "$$\\sqrt{\\left(\\frac{\\partial}{\\partial a} \\left(a e^{x} + b\\right)\\cdot\\Delta a\\right)^2 + \\left(\\frac{\\partial}{\\partial b} \\left(a e^{x} + b\\right)\\cdot\\Delta b\\right)^2}$$\n",
    "$$\\sqrt{\\left(e^{x}\\cdot\\Delta a\\right)^2 + \\left(1\\cdot\\Delta b\\right)^2}$$\n",
    "\n",
    "**Linear**\n",
    "$$\\left|e^{x}\\right|\\cdot\\Delta a + \\left|1\\right|\\cdot\\Delta b$$"
   ]
  },
  {
   "cell_type": "code",
   "execution_count": 5,
   "metadata": {},
   "outputs": [
    {
     "data": {
      "text/latex": [
       "$\\sqrt{da^{2} \\left(\\frac{\\partial}{\\partial a} \\left(a e^{x} + b\\right)\\right)^{2} + db^{2} \\left(\\frac{\\partial}{\\partial b} \\left(a e^{x} + b\\right)\\right)^{2}}$"
      ],
      "text/plain": [
       "     ___________________________________________\n",
       "    /                   2                     2 \n",
       "   /    2 /d /   x    \\\\      2 /d /   x    \\\\  \n",
       "  /   da *|--\\a*e  + b/|  + db *|--\\a*e  + b/|  \n",
       "\\/        \\da          /        \\db          /  "
      ]
     },
     "metadata": {},
     "output_type": "display_data"
    }
   ],
   "source": [
    "get_propagated_error_function(f, error_variables, [da, db], \"gaussian\", false)"
   ]
  },
  {
   "cell_type": "code",
   "execution_count": 6,
   "metadata": {},
   "outputs": [
    {
     "data": {
      "text/latex": [
       "$\\sqrt{da^{2} e^{2 x} + db^{2}}$"
      ],
      "text/plain": [
       "   ________________\n",
       "  /   2  2*x     2 \n",
       "\\/  da *e    + db  "
      ]
     },
     "metadata": {},
     "output_type": "display_data"
    }
   ],
   "source": [
    "error_function = get_propagated_error_function(f, error_variables, [da, db], \"gaussian\")"
   ]
  },
  {
   "cell_type": "code",
   "execution_count": 7,
   "metadata": {},
   "outputs": [
    {
     "data": {
      "text/latex": [
       "$\\sqrt{16 + e^{10}}$"
      ],
      "text/plain": [
       "   __________\n",
       "  /       10 \n",
       "\\/  16 + e   "
      ]
     },
     "metadata": {},
     "output_type": "display_data"
    }
   ],
   "source": [
    "error_function(da => 1, db => 4, x => 5)"
   ]
  }
 ],
 "metadata": {
  "kernelspec": {
   "display_name": "Julia 1.7.2",
   "language": "julia",
   "name": "julia-1.7"
  },
  "language_info": {
   "file_extension": ".jl",
   "mimetype": "application/julia",
   "name": "julia",
   "version": "1.7.2"
  },
  "orig_nbformat": 4
 },
 "nbformat": 4,
 "nbformat_minor": 2
}
