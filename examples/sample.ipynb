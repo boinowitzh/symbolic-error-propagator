{
 "cells": [
  {
   "cell_type": "code",
   "execution_count": 1,
   "metadata": {},
   "outputs": [
    {
     "data": {
      "text/latex": [
       "$a e^{x} + b$"
      ],
      "text/plain": [
       "   x    \n",
       "a*e  + b"
      ]
     },
     "metadata": {},
     "output_type": "display_data"
    }
   ],
   "source": [
    "using SymbolicErrorPropagator\n",
    "using SymPy\n",
    "@vars a b x da db\n",
    "error_variables = [a, b]\n",
    "variables = [x]\n",
    "f = a * exp(x) + b"
   ]
  },
  {
   "cell_type": "code",
   "execution_count": 2,
   "metadata": {},
   "outputs": [
    {
     "name": "stdout",
     "output_type": "stream",
     "text": [
      "\\sqrt{\\left(\\frac{\\partial}{\\partial a} \\left(a e^{x} + b\\right)\\cdot\\Delta a\\right)^2 + \\left(\\frac{\\partial}{\\partial b} \\left(a e^{x} + b\\right)\\cdot\\Delta b\\right)^2}"
     ]
    }
   ],
   "source": [
    "gaussian_not_executed = get_propagated_error_string(f, error_variables, \"gaussian\", execute_derivative=false)\n",
    "print(gaussian_not_executed)"
   ]
  },
  {
   "cell_type": "code",
   "execution_count": 3,
   "metadata": {},
   "outputs": [
    {
     "name": "stdout",
     "output_type": "stream",
     "text": [
      "\\sqrt{\\left(e^{x}\\cdot\\Delta a\\right)^2 + \\left(1\\cdot\\Delta b\\right)^2}"
     ]
    }
   ],
   "source": [
    "print(get_propagated_error_string(f, error_variables, \"gaussian\"))"
   ]
  },
  {
   "cell_type": "code",
   "execution_count": 4,
   "metadata": {},
   "outputs": [
    {
     "name": "stdout",
     "output_type": "stream",
     "text": [
      "\\left|e^{x}\\right|\\cdot\\Delta a + \\left|1\\right|\\cdot\\Delta b"
     ]
    }
   ],
   "source": [
    "print(get_propagated_error_string(f, error_variables, \"lin\"))"
   ]
  },
  {
   "cell_type": "markdown",
   "metadata": {},
   "source": [
    "The built-in Latex-`enclose` can be used to put the calculated equation in shape for LaTex-Publishing"
   ]
  },
  {
   "cell_type": "code",
   "execution_count": 5,
   "metadata": {},
   "outputs": [
    {
     "name": "stdout",
     "output_type": "stream",
     "text": [
      "$\\sqrt{\\left(\\frac{\\partial}{\\partial a} \\left(a e^{x} + b\\right)\\cdot\\Delta a\\right)^2 + \\left(\\frac{\\partial}{\\partial b} \\left(a e^{x} + b\\right)\\cdot\\Delta b\\right)^2}$"
     ]
    }
   ],
   "source": [
    "print(enclose(gaussian_not_executed, inline=true))"
   ]
  },
  {
   "cell_type": "code",
   "execution_count": 6,
   "metadata": {},
   "outputs": [
    {
     "name": "stdout",
     "output_type": "stream",
     "text": [
      "\\begin{equation}\n",
      "\t\\sqrt{\\left(\\frac{\\partial}{\\partial a} \\left(a e^{x} + b\\right)\\cdot\\Delta a\\right)^2 + \\left(\\frac{\\partial}{\\partial b} \\left(a e^{x} + b\\right)\\cdot\\Delta b\\right)^2}\n",
      "\\end{equation}"
     ]
    }
   ],
   "source": [
    "print(enclose(gaussian_not_executed, inline=false))"
   ]
  },
  {
   "cell_type": "markdown",
   "metadata": {},
   "source": [
    "The LaTex-Strings can be parsed to\n",
    "\n",
    "**Gaussian**\n",
    "$$\\sqrt{\\left(\\frac{\\partial}{\\partial a} \\left(a e^{x} + b\\right)\\cdot\\Delta a\\right)^2 + \\left(\\frac{\\partial}{\\partial b} \\left(a e^{x} + b\\right)\\cdot\\Delta b\\right)^2}$$\n",
    "$$\\sqrt{\\left(e^{x}\\cdot\\Delta a\\right)^2 + \\left(1\\cdot\\Delta b\\right)^2}$$\n",
    "\n",
    "**Linear**\n",
    "$$\\left|e^{x}\\right|\\cdot\\Delta a + \\left|1\\right|\\cdot\\Delta b$$"
   ]
  },
  {
   "cell_type": "code",
   "execution_count": 7,
   "metadata": {},
   "outputs": [
    {
     "data": {
      "text/latex": [
       "$\\sqrt{da^{2} \\left(\\frac{\\partial}{\\partial a} \\left(a e^{x} + b\\right)\\right)^{2} + db^{2} \\left(\\frac{\\partial}{\\partial b} \\left(a e^{x} + b\\right)\\right)^{2}}$"
      ],
      "text/plain": [
       "     ___________________________________________\n",
       "    /                   2                     2 \n",
       "   /    2 /d /   x    \\\\      2 /d /   x    \\\\  \n",
       "  /   da *|--\\a*e  + b/|  + db *|--\\a*e  + b/|  \n",
       "\\/        \\da          /        \\db          /  "
      ]
     },
     "metadata": {},
     "output_type": "display_data"
    }
   ],
   "source": [
    "get_propagated_error_function(f, error_variables, [da, db], \"gaussian\", execute_derivative=false)"
   ]
  },
  {
   "cell_type": "code",
   "execution_count": 8,
   "metadata": {},
   "outputs": [
    {
     "data": {
      "text/latex": [
       "$\\sqrt{da^{2} e^{2 x} + db^{2}}$"
      ],
      "text/plain": [
       "   ________________\n",
       "  /   2  2*x     2 \n",
       "\\/  da *e    + db  "
      ]
     },
     "metadata": {},
     "output_type": "display_data"
    }
   ],
   "source": [
    "error_function = get_propagated_error_function(f, error_variables, [da, db], \"gaussian\")"
   ]
  },
  {
   "cell_type": "code",
   "execution_count": 9,
   "metadata": {},
   "outputs": [
    {
     "data": {
      "text/latex": [
       "$\\sqrt{16 + e^{10}}$"
      ],
      "text/plain": [
       "   __________\n",
       "  /       10 \n",
       "\\/  16 + e   "
      ]
     },
     "metadata": {},
     "output_type": "display_data"
    }
   ],
   "source": [
    "error_function = error_function(da => 1, db => 4, x => 5)"
   ]
  },
  {
   "cell_type": "markdown",
   "metadata": {},
   "source": [
    "Apply the Error-Function directly to the data you have measured in the lab"
   ]
  },
  {
   "cell_type": "code",
   "execution_count": 10,
   "metadata": {},
   "outputs": [
    {
     "data": {
      "text/html": [
       "<div class=\"data-frame\"><p>3 rows × 5 columns</p><table class=\"data-frame\"><thead><tr><th></th><th>a</th><th>da</th><th>b</th><th>db</th><th>x</th></tr><tr><th></th><th title=\"Int64\">Int64</th><th title=\"Float64\">Float64</th><th title=\"Float64\">Float64</th><th title=\"Float64\">Float64</th><th title=\"Int64\">Int64</th></tr></thead><tbody><tr><th>1</th><td>1</td><td>2.0</td><td>3.0</td><td>4.0</td><td>5</td></tr><tr><th>2</th><td>3</td><td>4.0</td><td>4.12</td><td>4.2</td><td>6</td></tr><tr><th>3</th><td>3</td><td>0.3</td><td>4.12</td><td>4.2</td><td>7</td></tr></tbody></table></div>"
      ],
      "text/latex": [
       "\\begin{tabular}{r|ccccc}\n",
       "\t& a & da & b & db & x\\\\\n",
       "\t\\hline\n",
       "\t& Int64 & Float64 & Float64 & Float64 & Int64\\\\\n",
       "\t\\hline\n",
       "\t1 & 1 & 2.0 & 3.0 & 4.0 & 5 \\\\\n",
       "\t2 & 3 & 4.0 & 4.12 & 4.2 & 6 \\\\\n",
       "\t3 & 3 & 0.3 & 4.12 & 4.2 & 7 \\\\\n",
       "\\end{tabular}\n"
      ],
      "text/plain": [
       "\u001b[1m3×5 DataFrame\u001b[0m\n",
       "\u001b[1m Row \u001b[0m│\u001b[1m a     \u001b[0m\u001b[1m da      \u001b[0m\u001b[1m b       \u001b[0m\u001b[1m db      \u001b[0m\u001b[1m x     \u001b[0m\n",
       "\u001b[1m     \u001b[0m│\u001b[90m Int64 \u001b[0m\u001b[90m Float64 \u001b[0m\u001b[90m Float64 \u001b[0m\u001b[90m Float64 \u001b[0m\u001b[90m Int64 \u001b[0m\n",
       "─────┼─────────────────────────────────────────\n",
       "   1 │     1      2.0     3.0       4.0      5\n",
       "   2 │     3      4.0     4.12      4.2      6\n",
       "   3 │     3      0.3     4.12      4.2      7"
      ]
     },
     "metadata": {},
     "output_type": "display_data"
    }
   ],
   "source": [
    "measured_data = load_csv_to_DataFrame(\"data.csv\")"
   ]
  },
  {
   "cell_type": "code",
   "execution_count": 11,
   "metadata": {},
   "outputs": [
    {
     "data": {
      "text/html": [
       "<div class=\"data-frame\"><p>3 rows × 6 columns</p><table class=\"data-frame\"><thead><tr><th></th><th>a</th><th>da</th><th>b</th><th>db</th><th>x</th><th>df</th></tr><tr><th></th><th title=\"Int64\">Int64</th><th title=\"Float64\">Float64</th><th title=\"Float64\">Float64</th><th title=\"Float64\">Float64</th><th title=\"Int64\">Int64</th><th title=\"Float64\">Float64</th></tr></thead><tbody><tr><th>1</th><td>1</td><td>2.0</td><td>3.0</td><td>4.0</td><td>5</td><td>300.826</td></tr><tr><th>2</th><td>3</td><td>4.0</td><td>4.12</td><td>4.2</td><td>6</td><td>1617.92</td></tr><tr><th>3</th><td>3</td><td>0.3</td><td>4.12</td><td>4.2</td><td>7</td><td>333.19</td></tr></tbody></table></div>"
      ],
      "text/latex": [
       "\\begin{tabular}{r|cccccc}\n",
       "\t& a & da & b & db & x & df\\\\\n",
       "\t\\hline\n",
       "\t& Int64 & Float64 & Float64 & Float64 & Int64 & Float64\\\\\n",
       "\t\\hline\n",
       "\t1 & 1 & 2.0 & 3.0 & 4.0 & 5 & 300.826 \\\\\n",
       "\t2 & 3 & 4.0 & 4.12 & 4.2 & 6 & 1617.92 \\\\\n",
       "\t3 & 3 & 0.3 & 4.12 & 4.2 & 7 & 333.19 \\\\\n",
       "\\end{tabular}\n"
      ],
      "text/plain": [
       "\u001b[1m3×6 DataFrame\u001b[0m\n",
       "\u001b[1m Row \u001b[0m│\u001b[1m a     \u001b[0m\u001b[1m da      \u001b[0m\u001b[1m b       \u001b[0m\u001b[1m db      \u001b[0m\u001b[1m x     \u001b[0m\u001b[1m df       \u001b[0m\n",
       "\u001b[1m     \u001b[0m│\u001b[90m Int64 \u001b[0m\u001b[90m Float64 \u001b[0m\u001b[90m Float64 \u001b[0m\u001b[90m Float64 \u001b[0m\u001b[90m Int64 \u001b[0m\u001b[90m Float64  \u001b[0m\n",
       "─────┼───────────────────────────────────────────────────\n",
       "   1 │     1      2.0     3.0       4.0      5   300.826\n",
       "   2 │     3      4.0     4.12      4.2      6  1617.92\n",
       "   3 │     3      0.3     4.12      4.2      7   333.19"
      ]
     },
     "metadata": {},
     "output_type": "display_data"
    }
   ],
   "source": [
    "SymbolicErrorPropagator.apply_error_function_to_measured_data(measured_data, f, [\"a\", \"da\", \"b\", \"db\", \"x\"], [a, b], [da, db], [x])"
   ]
  },
  {
   "cell_type": "code",
   "execution_count": 12,
   "metadata": {},
   "outputs": [
    {
     "data": {
      "text/html": [
       "<div class=\"data-frame\"><p>3 rows × 6 columns</p><table class=\"data-frame\"><thead><tr><th></th><th>a</th><th>da</th><th>b</th><th>db</th><th>x</th><th>f</th></tr><tr><th></th><th title=\"Int64\">Int64</th><th title=\"Float64\">Float64</th><th title=\"Float64\">Float64</th><th title=\"Float64\">Float64</th><th title=\"Int64\">Int64</th><th title=\"Float64\">Float64</th></tr></thead><tbody><tr><th>1</th><td>1</td><td>2.0</td><td>3.0</td><td>4.0</td><td>5</td><td>151.413</td></tr><tr><th>2</th><td>3</td><td>4.0</td><td>4.12</td><td>4.2</td><td>6</td><td>1214.41</td></tr><tr><th>3</th><td>3</td><td>0.3</td><td>4.12</td><td>4.2</td><td>7</td><td>3294.02</td></tr></tbody></table></div>"
      ],
      "text/latex": [
       "\\begin{tabular}{r|cccccc}\n",
       "\t& a & da & b & db & x & f\\\\\n",
       "\t\\hline\n",
       "\t& Int64 & Float64 & Float64 & Float64 & Int64 & Float64\\\\\n",
       "\t\\hline\n",
       "\t1 & 1 & 2.0 & 3.0 & 4.0 & 5 & 151.413 \\\\\n",
       "\t2 & 3 & 4.0 & 4.12 & 4.2 & 6 & 1214.41 \\\\\n",
       "\t3 & 3 & 0.3 & 4.12 & 4.2 & 7 & 3294.02 \\\\\n",
       "\\end{tabular}\n"
      ],
      "text/plain": [
       "\u001b[1m3×6 DataFrame\u001b[0m\n",
       "\u001b[1m Row \u001b[0m│\u001b[1m a     \u001b[0m\u001b[1m da      \u001b[0m\u001b[1m b       \u001b[0m\u001b[1m db      \u001b[0m\u001b[1m x     \u001b[0m\u001b[1m f        \u001b[0m\n",
       "\u001b[1m     \u001b[0m│\u001b[90m Int64 \u001b[0m\u001b[90m Float64 \u001b[0m\u001b[90m Float64 \u001b[0m\u001b[90m Float64 \u001b[0m\u001b[90m Int64 \u001b[0m\u001b[90m Float64  \u001b[0m\n",
       "─────┼───────────────────────────────────────────────────\n",
       "   1 │     1      2.0     3.0       4.0      5   151.413\n",
       "   2 │     3      4.0     4.12      4.2      6  1214.41\n",
       "   3 │     3      0.3     4.12      4.2      7  3294.02"
      ]
     },
     "metadata": {},
     "output_type": "display_data"
    }
   ],
   "source": [
    "SymbolicErrorPropagator.apply_function_to_measured_data(measured_data, f, [\"a\", \"da\", \"b\", \"db\", \"x\"], [a, b], \n",
    "[da, db], [x])"
   ]
  },
  {
   "cell_type": "code",
   "execution_count": 13,
   "metadata": {},
   "outputs": [
    {
     "data": {
      "text/html": [
       "<div class=\"data-frame\"><p>3 rows × 7 columns</p><table class=\"data-frame\"><thead><tr><th></th><th>a</th><th>da</th><th>b</th><th>db</th><th>x</th><th>f</th><th>df</th></tr><tr><th></th><th title=\"Int64\">Int64</th><th title=\"Float64\">Float64</th><th title=\"Float64\">Float64</th><th title=\"Float64\">Float64</th><th title=\"Int64\">Int64</th><th title=\"Float64\">Float64</th><th title=\"Float64\">Float64</th></tr></thead><tbody><tr><th>1</th><td>1</td><td>2.0</td><td>3.0</td><td>4.0</td><td>5</td><td>151.413</td><td>300.826</td></tr><tr><th>2</th><td>3</td><td>4.0</td><td>4.12</td><td>4.2</td><td>6</td><td>1214.41</td><td>1617.92</td></tr><tr><th>3</th><td>3</td><td>0.3</td><td>4.12</td><td>4.2</td><td>7</td><td>3294.02</td><td>333.19</td></tr></tbody></table></div>"
      ],
      "text/latex": [
       "\\begin{tabular}{r|ccccccc}\n",
       "\t& a & da & b & db & x & f & df\\\\\n",
       "\t\\hline\n",
       "\t& Int64 & Float64 & Float64 & Float64 & Int64 & Float64 & Float64\\\\\n",
       "\t\\hline\n",
       "\t1 & 1 & 2.0 & 3.0 & 4.0 & 5 & 151.413 & 300.826 \\\\\n",
       "\t2 & 3 & 4.0 & 4.12 & 4.2 & 6 & 1214.41 & 1617.92 \\\\\n",
       "\t3 & 3 & 0.3 & 4.12 & 4.2 & 7 & 3294.02 & 333.19 \\\\\n",
       "\\end{tabular}\n"
      ],
      "text/plain": [
       "\u001b[1m3×7 DataFrame\u001b[0m\n",
       "\u001b[1m Row \u001b[0m│\u001b[1m a     \u001b[0m\u001b[1m da      \u001b[0m\u001b[1m b       \u001b[0m\u001b[1m db      \u001b[0m\u001b[1m x     \u001b[0m\u001b[1m f        \u001b[0m\u001b[1m df       \u001b[0m\n",
       "\u001b[1m     \u001b[0m│\u001b[90m Int64 \u001b[0m\u001b[90m Float64 \u001b[0m\u001b[90m Float64 \u001b[0m\u001b[90m Float64 \u001b[0m\u001b[90m Int64 \u001b[0m\u001b[90m Float64  \u001b[0m\u001b[90m Float64  \u001b[0m\n",
       "─────┼─────────────────────────────────────────────────────────────\n",
       "   1 │     1      2.0     3.0       4.0      5   151.413   300.826\n",
       "   2 │     3      4.0     4.12      4.2      6  1214.41   1617.92\n",
       "   3 │     3      0.3     4.12      4.2      7  3294.02    333.19"
      ]
     },
     "metadata": {},
     "output_type": "display_data"
    }
   ],
   "source": [
    "apply_to_measured_data(measured_data, f, [\"a\", \"da\", \"b\", \"db\", \"x\"], [a, b], [da, db], [x])"
   ]
  }
 ],
 "metadata": {
  "kernelspec": {
   "display_name": "Julia 1.7.2",
   "language": "julia",
   "name": "julia-1.7"
  },
  "language_info": {
   "file_extension": ".jl",
   "mimetype": "application/julia",
   "name": "julia",
   "version": "1.7.2"
  },
  "orig_nbformat": 4
 },
 "nbformat": 4,
 "nbformat_minor": 2
}
